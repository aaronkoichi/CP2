{
 "cells": [
  {
   "cell_type": "code",
   "execution_count": 9,
   "id": "5fb32294-4e26-4b8a-a0bc-639ec8bd8918",
   "metadata": {},
   "outputs": [],
   "source": [
    "import pandas as pd\n",
    "import numpy as np\n",
    "import networkx as nx\n",
    "from node2vec import Node2Vec\n",
    "from sklearn.preprocessing import LabelEncoder\n",
    "import torch\n",
    "import torch.nn as nn\n",
    "import torch.nn.functional as F\n",
    "from torch_geometric.data import Data\n",
    "from torch_geometric.nn import GCNConv\n",
    "import kagglehub"
   ]
  },
  {
   "cell_type": "code",
   "execution_count": 10,
   "id": "5922d8d6-9150-4f99-92d3-1ddfdcbb05d5",
   "metadata": {},
   "outputs": [],
   "source": [
    "# load the transaction data\n",
    "def load_transaction_data(filepath):\n",
    "    df = pd.read_csv(filepath)\n",
    "    return df"
   ]
  },
  {
   "cell_type": "code",
   "execution_count": 14,
   "id": "a514a8a4-1fec-46bc-8df2-2cfa967621b8",
   "metadata": {},
   "outputs": [],
   "source": [
    " # create the graphs for the transaction\n",
    "\n",
    "def create_transaction_graph(df):\n",
    "  G = nx.DiGraph() # initiallized empty directed graph\n",
    "\n",
    "\n",
    "  # node labels --> bankName_AccountNumber  \n",
    "  df['source_node'] = df['From Bank'].astype(str) + '_' + df['Account'].astype(str)\n",
    "  df['target_node'] = df['To Bank'].astype(str) + '_' + df['Account.1'].astype(str)\n",
    "\n",
    "  # iterate through the csv dataset\n",
    "  for idx, row in df.iterrows():\n",
    "    source = row['source_node']\n",
    "    target = row['target_node']\n",
    "\n",
    "  if G.has_edge(source, target):\n",
    "    G[source][target]['weight'] += 1\n",
    "    G[source][target]['total_amount'] += row['amount_paid']\n",
    "  else:\n",
    "    G.add_edge(source, target, \n",
    "                weight=1, # can mark it as overlapping transactions\n",
    "                total_amount=row['Amount Received'],\n",
    "                currency=row['Receiving Currency'],\n",
    "                payment_format=row['Payment Format'])\n",
    "      \n",
    "  return G, df"
   ]
  },
  {
   "cell_type": "code",
   "execution_count": 19,
   "id": "4a340ed3-bd40-4918-81dd-2b20a1467f8f",
   "metadata": {},
   "outputs": [],
   "source": [
    "'''\n",
    "dimensions = size of vector representation for each node\n",
    "walk_length = how long each random walk will be \n",
    "num_walks = how many walks to start from each node\n",
    "p = return probability --> how likely is the walk going back to the previous node\n",
    "q = in-out probability --> how likely is the walk exploring inward / outward.\n",
    "workers = CPU-based (number of threads)\n",
    "quiet -> false will show progress output.\n",
    "'''\n",
    "def generate_embeddings(G, dimensions=64, walk_length=30, num_walks=200, \n",
    "                                 p=1, q=1, workers=4):\n",
    "\n",
    "    node2vec = Node2Vec(\n",
    "        G,\n",
    "        dimensions=dimensions,\n",
    "        walk_length=walk_length,\n",
    "        num_walks=num_walks,\n",
    "        p=p,\n",
    "        q=q,\n",
    "        workers=workers,\n",
    "        quiet=False\n",
    "    )\n",
    "\n",
    "    model = node2vec.fit(window=10, min_count=1, batch_words=4)\n",
    "    return model\n",
    "    "
   ]
  },
  {
   "cell_type": "code",
   "execution_count": 17,
   "id": "0a163b45-2f81-44ce-80c4-6c0322582986",
   "metadata": {},
   "outputs": [
    {
     "name": "stdout",
     "output_type": "stream",
     "text": [
      "/home/koichi/.cache/kagglehub/datasets/ealtman2019/ibm-transactions-for-anti-money-laundering-aml/versions/8\n"
     ]
    }
   ],
   "source": [
    "path = kagglehub.dataset_download(\"ealtman2019/ibm-transactions-for-anti-money-laundering-aml\")\n",
    "print(path)\n",
    "csv_file = path + \"/HI-Small_Trans.csv\""
   ]
  },
  {
   "cell_type": "code",
   "execution_count": 18,
   "id": "8a6a1876-6cfe-4308-81b5-562c4fb0b73b",
   "metadata": {},
   "outputs": [
    {
     "name": "stdout",
     "output_type": "stream",
     "text": [
      "done\n"
     ]
    }
   ],
   "source": [
    "# load csv\n",
    "df = load_transaction_data(csv_file)\n",
    "print(\"transaction loaded.\")\n",
    "# create graph\n",
    "G, df = create_transaction_graph(df)\n",
    "print(\"graph created.\")"
   ]
  },
  {
   "cell_type": "code",
   "execution_count": 20,
   "id": "0cabdcd3-937a-4ad8-9e40-6e9a9e300641",
   "metadata": {},
   "outputs": [
    {
     "name": "stdout",
     "output_type": "stream",
     "text": [
      "training model....\n"
     ]
    },
    {
     "name": "stderr",
     "output_type": "stream",
     "text": [
      "Computing transition probabilities: 100%|████████████████████████████████████████████████████████████████████████████████████████████████████| 2/2 [00:00<00:00, 3374.34it/s]\n"
     ]
    },
    {
     "name": "stdout",
     "output_type": "stream",
     "text": [
      "training model done..\n"
     ]
    },
    {
     "name": "stderr",
     "output_type": "stream",
     "text": [
      "Generating walks (CPU: 1): 100%|██████████| 50/50 [00:00<00:00, 193464.21it/s]\n",
      "Generating walks (CPU: 2): 100%|██████████| 50/50 [00:00<00:00, 186082.70it/s]\n",
      "Generating walks (CPU: 3): 100%|██████████| 50/50 [00:00<00:00, 159237.05it/s]\n",
      "Generating walks (CPU: 4): 100%|██████████| 50/50 [00:00<00:00, 204201.75it/s]\n"
     ]
    }
   ],
   "source": [
    "print(\"training model....\")\n",
    "training_model = generate_embeddings(G, dimensions=64)\n",
    "print(\"training model done..\")"
   ]
  },
  {
   "cell_type": "code",
   "execution_count": null,
   "id": "cb2e96d0-bdac-4cc4-bad1-41072059a77d",
   "metadata": {},
   "outputs": [],
   "source": []
  }
 ],
 "metadata": {
  "kernelspec": {
   "display_name": "Python 3 (ipykernel)",
   "language": "python",
   "name": "python3"
  },
  "language_info": {
   "codemirror_mode": {
    "name": "ipython",
    "version": 3
   },
   "file_extension": ".py",
   "mimetype": "text/x-python",
   "name": "python",
   "nbconvert_exporter": "python",
   "pygments_lexer": "ipython3",
   "version": "3.12.3"
  }
 },
 "nbformat": 4,
 "nbformat_minor": 5
}
